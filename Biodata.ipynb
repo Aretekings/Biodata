{
 "cells": [
  {
   "cell_type": "code",
   "execution_count": 2,
   "id": "ea30a7e9",
   "metadata": {
    "scrolled": true
   },
   "outputs": [
    {
     "name": "stdout",
     "output_type": "stream",
     "text": [
      "=============================================================\n",
      "NIK :  61124040xxxxx008\n",
      "Nama             :  Suhendri\n",
      "Tempat Tgl Lahir :  Pontianak, 04-04-2002\n",
      "Jenik Kelamin    :  Laki-laki\n",
      "Alamat           :  adis,\n",
      "       RT/RW     :  002/007\n",
      "       Kel/Desa  :  arang limbung\n",
      "       Kecamatan :  sungai raya\n",
      "Agama            :  Buddha\n",
      "Status           :  Belum Menikah\n",
      "Pekerjaan        :  Pelajar/Mahasiswa\n",
      "Kewarganegaraan  :  WNI\n",
      "Berlaku Hingga   :  Seumur Hidup\n",
      "=============================================================\n"
     ]
    }
   ],
   "source": [
    "nik = \"61124040xxxxx008\"\n",
    "ttl = \"Pontianak, 04-04-2002\"\n",
    "jeniskel = \"Laki-laki\"\n",
    "goldar = \"-\"\n",
    "nama = \"Suhendri\"\n",
    "alamat = \"\"\"adis,\n",
    "       RT/RW     :  002/007\n",
    "       Kel/Desa  :  arang limbung\n",
    "       Kecamatan :  sungai raya\"\"\"\n",
    "agama = \"Buddha\"\n",
    "kewarga = \"WNI\"\n",
    "berlaku = \"Seumur Hidup\"\n",
    "kerja = \"Pelajar/Mahasiswa\"\n",
    "menikah =False\n",
    "#cetak\n",
    "print(\"=============================================================\")\n",
    "\n",
    "print(\"NIK : \", nik)\n",
    "\n",
    "print(\"Nama             : \", nama)\n",
    "print(\"Tempat Tgl Lahir : \", ttl)\n",
    "print(\"Jenik Kelamin    : \", jeniskel)\n",
    "print(\"Alamat           : \", alamat)\n",
    "print(\"Agama            : \", agama)\n",
    "if(menikah):\n",
    "    print(\"Status           :  Menikah\")\n",
    "else:\n",
    "    print(\"Status           :  Belum Menikah\")\n",
    "print(\"Pekerjaan        : \", kerja)\n",
    "print(\"Kewarganegaraan  : \", kewarga)\n",
    "print(\"Berlaku Hingga   : \", berlaku)\n",
    "print(\"=============================================================\")"
   ]
  },
  {
   "cell_type": "code",
   "execution_count": 3,
   "id": "952d49bb",
   "metadata": {},
   "outputs": [
    {
     "name": "stdout",
     "output_type": "stream",
     "text": [
      "Surat Izin Mengemudi\n",
      "=============================================================\n",
      "                                                   A\n",
      "                                            2251-2134-234xxx\n",
      "1.  Suhendri\n",
      "2.  Pontianak, 04-04-2002\n",
      "3.  Pria\n",
      "4.  adis,\n",
      "       RT/RW     :  002/007\n",
      "       Kel/Desa  :  arang limbung\n",
      "       Kecamatan :  sungai raya\n",
      "5.  Pelajar\n",
      "6.  Kalbar\n",
      "                                                   5-03-2027\n",
      "=============================================================\n"
     ]
    }
   ],
   "source": [
    "sim = \"Surat Izin Mengemudi\"\n",
    "tipe = \"A\"\n",
    "noreg = \"2251-2134-234xxx\"\n",
    "ttl = \"Pontianak, 04-04-2002\"\n",
    "jeniskel = \"Pria\"\n",
    "nama = \"Suhendri\"\n",
    "alamat = \"\"\"adis,\n",
    "       RT/RW     :  002/007\n",
    "       Kel/Desa  :  arang limbung\n",
    "       Kecamatan :  sungai raya\"\"\"\n",
    "status = \"Pelajar\"\n",
    "prov = \"Kalbar\"\n",
    "berlaku = \"5-03-2027\"\n",
    "#cetak\n",
    "print (sim)\n",
    "print(\"=============================================================\")\n",
    "\n",
    "print('{:>52}'.format(tipe))\n",
    "print('{:>60}'.format(noreg))\n",
    "\n",
    "\n",
    "print(\"1. \", nama)\n",
    "print(\"2. \", ttl)\n",
    "print(\"3. \", jeniskel)\n",
    "print(\"4. \", alamat)\n",
    "print(\"5. \", status)\n",
    "print(\"6. \", prov)\n",
    "\n",
    "print('{:>60}'.format(berlaku))\n",
    "print(\"=============================================================\")"
   ]
  },
  {
   "cell_type": "code",
   "execution_count": 8,
   "id": "84fb79d6",
   "metadata": {},
   "outputs": [
    {
     "name": "stdout",
     "output_type": "stream",
     "text": [
      "sinar jaya\n",
      "=============================================================\n",
      "                                          Sinar jaya\n",
      "                                            1231-1235-221xxx\n",
      "1.  Suhendri\n",
      "2.  laki-laki\n",
      "3.  Buddha\n",
      "4.  Nanga Arong, 10-11-2001\n",
      "5.  adis,\n",
      "       RT/RW     :  002/007\n",
      "       Kel/Desa  :  arang limbung\n",
      "       Kecamatan :  sungai raya\n",
      "6.  S1\n",
      "7. lapa\n",
      "8. -\n",
      "9. juara 2 filpen nasional BNPT 2019\n",
      "                                                  Sinar jaya\n",
      "=============================================================\n"
     ]
    }
   ],
   "source": [
    "surat_izin = \"1231-1235-221xxx\"\n",
    "biodata =\"sinar jaya\"\n",
    "nama= \"Suhendri\"\n",
    "jenis_kelamin=\"laki-laki\"\n",
    "agama = \"Buddha\"\n",
    "ttl = \"Nanga Arong, 10-11-2001\"\n",
    "alamat = \"\"\"adis,\n",
    "       RT/RW     :  002/007\n",
    "       Kel/Desa  :  arang limbung\n",
    "       Kecamatan :  sungai raya\"\"\"\n",
    "pen_terakhir = \"S1\"\n",
    "organisasi =\"lapa\"\n",
    "pengalaman_kerja=\"-\"\n",
    "prestasi=\"juara 2 filpen nasional BNPT 2019\"\n",
    "cv_perusahaan=\"Sinar jaya\"\n",
    "#cetak\n",
    "print (biodata)\n",
    "print(\"=============================================================\")\n",
    "\n",
    "print('{:>52}'.format(cv_perusahaan))\n",
    "print('{:>60}'.format(surat_izin))\n",
    "\n",
    "\n",
    "print(\"1. \", nama)\n",
    "print(\"2. \",jenis_kelamin)\n",
    "print(\"3. \", agama)\n",
    "print(\"4. \", ttl)\n",
    "print(\"5. \", alamat)\n",
    "print(\"6. \", pen_terakhir)\n",
    "print(\"7.\",  organisasi)\n",
    "print(\"8.\", pengalaman_kerja)\n",
    "print(\"9.\", prestasi)\n",
    "\n",
    "print('{:>60}'.format(cv_perusahaan))\n",
    "print(\"=============================================================\")"
   ]
  },
  {
   "cell_type": "code",
   "execution_count": null,
   "id": "022042a7",
   "metadata": {},
   "outputs": [],
   "source": []
  }
 ],
 "metadata": {
  "kernelspec": {
   "display_name": "Python 3",
   "language": "python",
   "name": "python3"
  },
  "language_info": {
   "codemirror_mode": {
    "name": "ipython",
    "version": 3
   },
   "file_extension": ".py",
   "mimetype": "text/x-python",
   "name": "python",
   "nbconvert_exporter": "python",
   "pygments_lexer": "ipython3",
   "version": "3.8.8"
  }
 },
 "nbformat": 4,
 "nbformat_minor": 5
}
